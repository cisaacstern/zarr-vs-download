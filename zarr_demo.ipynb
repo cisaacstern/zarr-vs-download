{
 "cells": [
  {
   "cell_type": "code",
   "execution_count": null,
   "metadata": {
    "slideshow": {
     "slide_type": "skip"
    }
   },
   "outputs": [],
   "source": [
    "import time\n",
    "import pandas as pd\n",
    "import hvplot.xarray\n",
    "import matplotlib.pyplot as plt\n",
    "from dask_gateway import Gateway\n",
    "from dask.distributed import Client\n",
    "from IPython.display import IFrame\n",
    "from rich import print\n",
    "\n",
    "plt.rcParams['figure.figsize'] = (15,10)\n",
    "%matplotlib inline"
   ]
  },
  {
   "cell_type": "code",
   "execution_count": null,
   "metadata": {},
   "outputs": [],
   "source": [
    "def summarize_inputs(recipe, ninputs=8901):\n",
    "    \"\"\"A helper function to use below\n",
    "    \"\"\"\n",
    "    for time_index, url in recipe.file_pattern.items():\n",
    "        if time_index[0] < 3 or time_index[0] > (ninputs-4):\n",
    "            print(time_index, url)\n",
    "        elif time_index[0] == (ninputs-4):\n",
    "            print(\"...\")\n",
    "        else:\n",
    "            pass"
   ]
  },
  {
   "cell_type": "code",
   "execution_count": null,
   "metadata": {
    "slideshow": {
     "slide_type": "skip"
    }
   },
   "outputs": [],
   "source": [
    "# I'll start and connect to this cluster ahead of time, but time it, so you'll know how long it took!\n",
    "start = time.time()\n",
    "\n",
    "gateway = Gateway()\n",
    "cluster = gateway.new_cluster()\n",
    "cluster.adapt(minimum=1, maximum=20)\n",
    "client = Client(cluster)\n",
    "print(f\"Connected to Dask client in {round(time.time()-start, 2)} seconds\")\n",
    "client"
   ]
  },
  {
   "cell_type": "markdown",
   "metadata": {
    "slideshow": {
     "slide_type": "slide"
    }
   },
   "source": [
    "# Pangeo Forge: ETL for analysis-ready, cloud-optimized (ARCO) data stores\n",
    "\n",
    "**Charles Stern** ([@cisaacstern](http://github.com/cisaacstern)), Data Infrastructure Engineer, Lamont-Doherty Earth Observatory (LDEO)\n",
    "\n",
    "Presentation Repo: https://github.com/cisaacstern/zarr-vs-download"
   ]
  },
  {
   "cell_type": "markdown",
   "metadata": {
    "slideshow": {
     "slide_type": "slide"
    }
   },
   "source": [
    "## CMEMS sea surface altimetry data\n",
    "\n",
    "For this example we will use [gridded sea-surface altimetry data](http://marine.copernicus.eu/services-portfolio/access-to-products/?option=com_csw&view=details&product_id=SEALEVEL_GLO_PHY_L4_REP_OBSERVATIONS_008_047) from The Copernicus Marine Environment, a widely used dataset in physical oceanography and climate."
   ]
  },
  {
   "cell_type": "markdown",
   "metadata": {
    "slideshow": {
     "slide_type": "slide"
    }
   },
   "source": [
    "## CMEMS `ftp` index\n",
    "\n",
    "```\n",
    "ftp://my.cmems-du.eu:...\n",
    " ├──/1993\n",
    " │   ├──/01\n",
    " │   │   ├── dt_global...19930101.nc  (7789577 bytes)\n",
    " │   │  ...\n",
    " │   │   └── dt_global...19930131.nc  (7853172 bytes)\n",
    " │  ...\n",
    " │   └──/12\n",
    "...\n",
    " └──/2020\n",
    "```"
   ]
  },
  {
   "cell_type": "code",
   "execution_count": null,
   "metadata": {
    "slideshow": {
     "slide_type": "subslide"
    }
   },
   "outputs": [],
   "source": [
    "# Our target range includes 8901 files:\n",
    "\n",
    "dates = pd.date_range(start=\"1993-01-01\", end=\"2017-05-15\")\n",
    "len(dates)"
   ]
  },
  {
   "cell_type": "markdown",
   "metadata": {
    "slideshow": {
     "slide_type": "slide"
    }
   },
   "source": [
    "### The old way: start downloading\n",
    "\n",
    "The script `wget_cmems.py` will take care of this for us. Let's pause here and get it started."
   ]
  },
  {
   "cell_type": "markdown",
   "metadata": {
    "slideshow": {
     "slide_type": "slide"
    }
   },
   "source": [
    "# A better way: Pangeo Forge\n",
    "\n",
    "`pangeo-forge-recipes` provides logic for transforming all of these source files into a single consolidated zarr store."
   ]
  },
  {
   "cell_type": "markdown",
   "metadata": {
    "slideshow": {
     "slide_type": "slide"
    }
   },
   "source": [
    "## What's a `recipe`?\n",
    "A `recipe` is a Python file which can \"see\" all of the source files, and also knows how to logically arrange them into a cohesive dataset."
   ]
  },
  {
   "cell_type": "code",
   "execution_count": null,
   "metadata": {
    "slideshow": {
     "slide_type": "subslide"
    }
   },
   "outputs": [],
   "source": [
    "from cmems_recipe import recipe\n",
    "\n",
    "summarize_inputs(recipe)"
   ]
  },
  {
   "cell_type": "markdown",
   "metadata": {
    "slideshow": {
     "slide_type": "subslide"
    }
   },
   "source": [
    "These are the same files as we've begun downloading, with the addition of \"alignment keys\" (printed above in green) which allow `pangeo-forge-recipes` to **assemble** them into a cloud-optimized zarr store."
   ]
  },
  {
   "cell_type": "markdown",
   "metadata": {
    "slideshow": {
     "slide_type": "slide"
    }
   },
   "source": [
    "## Initialize Dataset\n",
    "\n",
    "> In order to build a zarr store from source files, the recipe must be executed.\n",
    "\n",
    "I've already completed this build, so from this point forward, getting up and running with the data is nearly **instantaneous**.\n",
    "\n",
    "There are a few options for loading the dataset from the zarr store, but using an `intake` catalog is one of the easiest."
   ]
  },
  {
   "cell_type": "code",
   "execution_count": null,
   "metadata": {
    "slideshow": {
     "slide_type": "subslide"
    }
   },
   "outputs": [],
   "source": [
    "from intake import open_catalog\n",
    "cat = open_catalog(\"catalog.yaml\")\n",
    "\n",
    "for source in [\"full_altimetry\", \"anomalies_only\"]:\n",
    "    ds = cat[source].to_dask()\n",
    "    bold, reset = '\\033[1m', '\\033[0m'\n",
    "    print(f\"{bold}'{source}' is {round(ds.nbytes/1e9, 2)} GBs {reset}and contains {ds.data_vars} \\n\")"
   ]
  },
  {
   "cell_type": "code",
   "execution_count": null,
   "metadata": {
    "slideshow": {
     "slide_type": "subslide"
    }
   },
   "outputs": [],
   "source": [
    "ds"
   ]
  },
  {
   "cell_type": "markdown",
   "metadata": {
    "slideshow": {
     "slide_type": "slide"
    }
   },
   "source": [
    "## Visually Examine Some of the Data\n",
    "\n",
    "Let's do a sanity check that the data looks reasonable. Here we use the [hvplot](https://hvplot.holoviz.org/index.html) interactive plotting library."
   ]
  },
  {
   "cell_type": "code",
   "execution_count": null,
   "metadata": {
    "slideshow": {
     "slide_type": "subslide"
    }
   },
   "outputs": [],
   "source": [
    "ds.sla.hvplot.image('longitude', 'latitude',\n",
    "                    rasterize=True, dynamic=True, width=800, height=450,\n",
    "                    widget_type='scrubber', widget_location='bottom', cmap='RdBu_r')"
   ]
  },
  {
   "cell_type": "markdown",
   "metadata": {
    "slideshow": {
     "slide_type": "slide"
    }
   },
   "source": [
    "## Example calculation: timeseries of Global Mean Sea Level\n",
    "\n",
    "Here we make a simple yet fundamental calculation: the rate of increase of global mean sea level over the observational period."
   ]
  },
  {
   "cell_type": "code",
   "execution_count": null,
   "metadata": {
    "slideshow": {
     "slide_type": "subslide"
    }
   },
   "outputs": [],
   "source": [
    "# the number of GB involved in the reduction\n",
    "ds.sla.nbytes/1e9"
   ]
  },
  {
   "cell_type": "code",
   "execution_count": null,
   "metadata": {
    "slideshow": {
     "slide_type": "subslide"
    }
   },
   "outputs": [],
   "source": [
    "IFrame(client.dashboard_link, width=900, height=550)"
   ]
  },
  {
   "cell_type": "code",
   "execution_count": null,
   "metadata": {
    "slideshow": {
     "slide_type": "subslide"
    }
   },
   "outputs": [],
   "source": [
    "# the computationally intensive step\n",
    "sla_timeseries = ds.sla.mean(dim=('latitude', 'longitude')).load()"
   ]
  },
  {
   "cell_type": "code",
   "execution_count": null,
   "metadata": {
    "slideshow": {
     "slide_type": "subslide"
    }
   },
   "outputs": [],
   "source": [
    "sla_timeseries.plot(label='full data')\n",
    "sla_timeseries.rolling(time=365, center=True).mean().plot(label='rolling annual mean')\n",
    "plt.ylabel('Sea Level Anomaly [m]')\n",
    "plt.title('Global Mean Sea Level')\n",
    "plt.legend()\n",
    "plt.grid()"
   ]
  },
  {
   "cell_type": "markdown",
   "metadata": {},
   "source": [
    "### Remember the download we started with `wget_cmems.py`?\n",
    "   - We just did a lot of work analyzing a 73 GB subset of a 500+ GB dataset.\n",
    "   - How much of that same dataset has been downloaded over these last few minutes?\n",
    "   - Let's see ..."
   ]
  },
  {
   "cell_type": "markdown",
   "metadata": {
    "slideshow": {
     "slide_type": "slide"
    }
   },
   "source": [
    "1. How do I make my own recipe?\n",
    "   - Check out the docs: https://pangeo-forge.readthedocs.io/en/latest/\n",
    "   - Reach out by opening an Issue here: https://github.com/pangeo-forge/staged-recipes/issues.\n",
    "   - One prerequisite is that your dataset is in a format that can be opened with `xarray` (netCDF, etc.).\n",
    "2. What's next for `pangeo-forge-recipes`?\n",
    "   - Automated recipe execution in \"Bakeries\"\n",
    "   - Cataloging with STAC\n",
    "3. Your questions!\n",
    "   - Reach out on GitHub if you think of them later :-)\n",
    "\n",
    "Feel free to complete the additional computations and plots below on your own time. They're pretty interesting!"
   ]
  },
  {
   "cell_type": "markdown",
   "metadata": {
    "slideshow": {
     "slide_type": "skip"
    }
   },
   "source": [
    "## Additional computations: Hovöller diagram & standard deviation\n",
    "\n",
    "Here are some additional computations to run on the Dask cluster."
   ]
  },
  {
   "cell_type": "markdown",
   "metadata": {
    "slideshow": {
     "slide_type": "skip"
    }
   },
   "source": [
    "In order to understand how the sea level rise is distributed in latitude, we can make a sort of [Hovmöller diagram](https://en.wikipedia.org/wiki/Hovm%C3%B6ller_diagram)."
   ]
  },
  {
   "cell_type": "code",
   "execution_count": null,
   "metadata": {
    "slideshow": {
     "slide_type": "skip"
    }
   },
   "outputs": [],
   "source": [
    "# another distributed computation\n",
    "sla_hov = ds.sla.mean(dim='longitude').load()"
   ]
  },
  {
   "cell_type": "code",
   "execution_count": null,
   "metadata": {
    "slideshow": {
     "slide_type": "skip"
    }
   },
   "outputs": [],
   "source": [
    "fig, ax = plt.subplots(figsize=(12, 4))\n",
    "sla_hov.name = 'Sea Level Anomaly [m]'\n",
    "sla_hov.transpose().plot(vmax=0.2, ax=ax)"
   ]
  },
  {
   "cell_type": "markdown",
   "metadata": {
    "slideshow": {
     "slide_type": "skip"
    }
   },
   "source": [
    "We can see that most sea level rise is actually in the Southern Hemisphere."
   ]
  },
  {
   "cell_type": "markdown",
   "metadata": {
    "slideshow": {
     "slide_type": "skip"
    }
   },
   "source": [
    "## Sea Level Variability\n",
    "\n",
    "We can examine the natural variability in sea level by looking at its standard deviation in time."
   ]
  },
  {
   "cell_type": "code",
   "execution_count": null,
   "metadata": {
    "slideshow": {
     "slide_type": "skip"
    }
   },
   "outputs": [],
   "source": [
    "# one last computation\n",
    "sla_std = ds.sla.std(dim='time').load()\n",
    "sla_std.name = 'Sea Level Variability [m]'"
   ]
  },
  {
   "cell_type": "code",
   "execution_count": null,
   "metadata": {
    "slideshow": {
     "slide_type": "skip"
    }
   },
   "outputs": [],
   "source": [
    "ax = sla_std.plot()\n",
    "_ = plt.title('Sea Level Variability')"
   ]
  }
 ],
 "metadata": {
  "celltoolbar": "Slideshow",
  "interpreter": {
   "hash": "17cbe981d2a215796e0ced3918861e033dc690df05cffe90ee5c9c8156b2d59a"
  },
  "kernelspec": {
   "display_name": "Python 3.8.8 64-bit ('pangeo-forge3.8': conda)",
   "name": "python3"
  },
  "language_info": {
   "name": "python",
   "version": ""
  },
  "rise": {
   "theme": "simple"
  }
 },
 "nbformat": 4,
 "nbformat_minor": 5
}