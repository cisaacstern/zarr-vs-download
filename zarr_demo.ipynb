{
 "cells": [
  {
   "cell_type": "code",
   "execution_count": null,
   "metadata": {
    "slideshow": {
     "slide_type": "skip"
    }
   },
   "outputs": [],
   "source": [
    "import time\n",
    "import pandas as pd\n",
    "import matplotlib.pyplot as plt\n",
    "from dask_gateway import Gateway\n",
    "from dask.distributed import Client\n",
    "from IPython.display import IFrame\n",
    "from rich import print\n",
    "\n",
    "plt.rcParams['figure.figsize'] = (15,10)\n",
    "%matplotlib inline"
   ]
  },
  {
   "cell_type": "code",
   "execution_count": null,
   "metadata": {},
   "outputs": [],
   "source": [
    "def summarize_inputs(recipe, ninputs=8901):\n",
    "    \"\"\"A helper function to use below\n",
    "    \"\"\"\n",
    "    for time_index, url in recipe.file_pattern.items():\n",
    "        if time_index[0] < 3 or time_index[0] > (ninputs-4):\n",
    "            print(time_index, url)\n",
    "        elif time_index[0] == (ninputs-4):\n",
    "            print(\"...\")\n",
    "        else:\n",
    "            pass"
   ]
  },
  {
   "cell_type": "code",
   "execution_count": null,
   "metadata": {
    "slideshow": {
     "slide_type": "skip"
    }
   },
   "outputs": [],
   "source": [
    "# I'll start and connect to this cluster ahead of time, but time it, so you'll know how long it took!\n",
    "start = time.time()\n",
    "\n",
    "gateway = Gateway()\n",
    "cluster = gateway.new_cluster()\n",
    "cluster.adapt(minimum=1, maximum=20)\n",
    "client = Client(cluster)\n",
    "print(f\"Connected to Dask client in {round(time.time()-start, 2)} seconds\")\n",
    "client"
   ]
  },
  {
   "cell_type": "markdown",
   "metadata": {
    "slideshow": {
     "slide_type": "slide"
    }
   },
   "source": [
    "# Pangeo Forge: ETL for analysis-ready, cloud-optimized (ARCO) data stores\n",
    "\n",
    "**Charles Stern** ([@cisaacstern](http://github.com/cisaacstern)), Data Infrastructure Engineer, Lamont-Doherty Earth Observatory (LDEO)\n",
    "\n",
    "Presentation Repo: https://github.com/cisaacstern/zarr-vs-download"
   ]
  },
  {
   "cell_type": "markdown",
   "metadata": {
    "slideshow": {
     "slide_type": "slide"
    }
   },
   "source": [
    "## CMEMS sea surface altimetry data\n",
    "\n",
    "For this example we will use [gridded sea-surface altimetry data](http://marine.copernicus.eu/services-portfolio/access-to-products/?option=com_csw&view=details&product_id=SEALEVEL_GLO_PHY_L4_REP_OBSERVATIONS_008_047) from The Copernicus Marine Environment, a widely used dataset in physical oceanography and climate."
   ]
  },
  {
   "cell_type": "markdown",
   "metadata": {
    "slideshow": {
     "slide_type": "slide"
    }
   },
   "source": [
    "## CMEMS `ftp` index\n",
    "\n",
    "```\n",
    "ftp://my.cmems-du.eu:...\n",
    " ├──/1993\n",
    " │   ├──/01\n",
    " │   │   ├── dt_global...19930101.nc  (7789577 bytes)\n",
    " │   │  ...\n",
    " │   │   └── dt_global...19930131.nc  (7853172 bytes)\n",
    " │  ...\n",
    " │   └──/12\n",
    "...\n",
    " └──/2020\n",
    "```"
   ]
  },
  {
   "cell_type": "code",
   "execution_count": null,
   "metadata": {
    "slideshow": {
     "slide_type": "subslide"
    }
   },
   "outputs": [],
   "source": [
    "# Our target range includes 8901 files:\n",
    "\n",
    "dates = pd.date_range(start=\"1993-01-01\", end=\"2017-05-15\")\n",
    "avg_bytes = 7853172\n",
    "print(f\"{len(dates)} files\")"
   ]
  },
  {
   "cell_type": "markdown",
   "metadata": {
    "slideshow": {
     "slide_type": "slide"
    }
   },
   "source": [
    "### The old way: start downloading\n",
    "\n",
    "This will take awhile! \n",
    "\n",
    "And the end result is likely not well-situated for parallel computation."
   ]
  },
  {
   "cell_type": "markdown",
   "metadata": {
    "slideshow": {
     "slide_type": "slide"
    }
   },
   "source": [
    "# A better way: Pangeo Forge\n",
    "\n",
    "`pangeo-forge-recipes` provides logic for transforming all of these source files into a single consolidated zarr store."
   ]
  },
  {
   "cell_type": "markdown",
   "metadata": {
    "slideshow": {
     "slide_type": "slide"
    }
   },
   "source": [
    "## What's a `recipe`?\n",
    "\n",
    "A `recipe` is a Python file which can \"see\" all of the source files, and also knows how to logically arrange them into a cohesive dataset."
   ]
  },
  {
   "cell_type": "code",
   "execution_count": null,
   "metadata": {
    "slideshow": {
     "slide_type": "subslide"
    }
   },
   "outputs": [],
   "source": [
    "from cmems_recipe import recipe\n",
    "\n",
    "summarize_inputs(recipe)"
   ]
  },
  {
   "cell_type": "markdown",
   "metadata": {
    "slideshow": {
     "slide_type": "slide"
    }
   },
   "source": [
    "# Zarr build: steps\n",
    "\n",
    "1. Cache files to cloud\n",
    "2. Write to Zarr store according to alignment **and chunking** logic\n",
    "\n",
    "> Chunking usually **not** 1:1 with alignment. For parallel computation with Dask, ~50-100 MB chunks tend to work well."
   ]
  },
  {
   "cell_type": "code",
   "execution_count": null,
   "metadata": {
    "slideshow": {
     "slide_type": "subslide"
    }
   },
   "outputs": [],
   "source": [
    "from intake import open_catalog\n",
    "cat = open_catalog(\"catalog.yaml\")\n",
    "\n",
    "for source in [\"full_altimetry\", \"anomalies_only\"]:\n",
    "    ds = cat[source].to_dask()\n",
    "    print(f\"'{source}' is {round(ds.nbytes/1e9, 2)} GBs and contains {ds.data_vars} \\n\")"
   ]
  },
  {
   "cell_type": "code",
   "execution_count": null,
   "metadata": {
    "slideshow": {
     "slide_type": "subslide"
    }
   },
   "outputs": [],
   "source": [
    "ds"
   ]
  },
  {
   "cell_type": "markdown",
   "metadata": {
    "slideshow": {
     "slide_type": "slide"
    }
   },
   "source": [
    "## Example calculation: timeseries of Global Mean Sea Level\n",
    "\n",
    "Here we make a simple yet fundamental calculation: the rate of increase of global mean sea level over the observational period."
   ]
  },
  {
   "cell_type": "code",
   "execution_count": null,
   "metadata": {
    "slideshow": {
     "slide_type": "subslide"
    }
   },
   "outputs": [],
   "source": [
    "# the number of GB involved in the reduction\n",
    "ds.sla.nbytes/1e9"
   ]
  },
  {
   "cell_type": "code",
   "execution_count": null,
   "metadata": {
    "scrolled": true,
    "slideshow": {
     "slide_type": "subslide"
    }
   },
   "outputs": [],
   "source": [
    "IFrame(client.dashboard_link, width=900, height=550)"
   ]
  },
  {
   "cell_type": "code",
   "execution_count": null,
   "metadata": {
    "slideshow": {
     "slide_type": "subslide"
    }
   },
   "outputs": [],
   "source": [
    "# the computationally intensive step\n",
    "sla_timeseries = ds.sla.mean(dim=('latitude', 'longitude')).load()"
   ]
  },
  {
   "cell_type": "code",
   "execution_count": null,
   "metadata": {
    "slideshow": {
     "slide_type": "subslide"
    }
   },
   "outputs": [],
   "source": [
    "sla_timeseries.plot(label='full data')\n",
    "sla_timeseries.rolling(time=365, center=True).mean().plot(label='rolling annual mean')\n",
    "plt.ylabel('Sea Level Anomaly [m]')\n",
    "plt.title('Global Mean Sea Level')\n",
    "plt.legend()\n",
    "plt.grid()"
   ]
  },
  {
   "cell_type": "markdown",
   "metadata": {
    "slideshow": {
     "slide_type": "slide"
    }
   },
   "source": [
    "## Today\n",
    "- Start working on a recipe: https://pangeo-forge.readthedocs.io/en/latest/\n",
    "- Ask me for help with it: https://github.com/pangeo-forge/staged-recipes/issues\n",
    "- Add it to the queue for automated builds: https://github.com/pangeo-forge/staged-recipes/pulls\n",
    "- Build it using a notebook\n",
    "\n",
    "\n",
    "## Soon\n",
    "- Build your recipe in an automated \"Bakery\"\n",
    "- Browse (and contribute to) a STAC catalog of available Zarr datasets\n"
   ]
  },
  {
   "cell_type": "code",
   "execution_count": null,
   "metadata": {},
   "outputs": [],
   "source": []
  }
 ],
 "metadata": {
  "celltoolbar": "Slideshow",
  "interpreter": {
   "hash": "17cbe981d2a215796e0ced3918861e033dc690df05cffe90ee5c9c8156b2d59a"
  },
  "kernelspec": {
   "display_name": "Python 3",
   "language": "python",
   "name": "python3"
  },
  "language_info": {
   "codemirror_mode": {
    "name": "ipython",
    "version": 3
   },
   "file_extension": ".py",
   "mimetype": "text/x-python",
   "name": "python",
   "nbconvert_exporter": "python",
   "pygments_lexer": "ipython3",
   "version": "3.8.6"
  },
  "rise": {
   "theme": "simple"
  }
 },
 "nbformat": 4,
 "nbformat_minor": 5
}
